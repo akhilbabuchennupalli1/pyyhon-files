{
 "cells": [
  {
   "cell_type": "markdown",
   "metadata": {},
   "source": [
    "### counting number of match stics"
   ]
  },
  {
   "cell_type": "code",
   "execution_count": 5,
   "metadata": {},
   "outputs": [
    {
     "name": "stdout",
     "output_type": "stream",
     "text": [
      "453\n",
      "14\n"
     ]
    }
   ],
   "source": [
    "d={0:6,1:2,2:5,3:5,4:4,5:5,6:6,7:3,8:7,9:6}\n",
    "n=input()\n",
    "c=0\n",
    "for i in n:\n",
    "    c=c+d[int(i)]\n",
    "print(c)"
   ]
  },
  {
   "cell_type": "markdown",
   "metadata": {},
   "source": [
    "### position of object"
   ]
  },
  {
   "cell_type": "code",
   "execution_count": 10,
   "metadata": {},
   "outputs": [
    {
     "name": "stdout",
     "output_type": "stream",
     "text": [
      "enterllluuuurd\n",
      "-2 3\n"
     ]
    }
   ],
   "source": [
    "n=input(\"enter\")\n",
    "x=0\n",
    "y=0\n",
    "for i in n:\n",
    "    if i=='l':\n",
    "        x=x-1\n",
    "    if i=='r':\n",
    "        x=x+1\n",
    "    if i=='u':\n",
    "        y=y+1\n",
    "    if i=='d':\n",
    "        y=y-1\n",
    "print(x,y)        "
   ]
  },
  {
   "cell_type": "code",
   "execution_count": 11,
   "metadata": {},
   "outputs": [
    {
     "name": "stdout",
     "output_type": "stream",
     "text": [
      "llrddr\n",
      "0 , -2\n"
     ]
    }
   ],
   "source": [
    "d={\"l\":-1,\"r\":+1,\"u\":+1,\"d\":-1}\n",
    "n=(input())\n",
    "c=0\n",
    "l=0\n",
    "for i in n:\n",
    "    d[(i)]\n",
    "    if i==\"l\" or i==\"r\":\n",
    "        c=c+d[i]\n",
    "    else:\n",
    "        l=l+d[i]\n",
    "print(c,\",\",l)        "
   ]
  },
  {
   "cell_type": "code",
   "execution_count": 26,
   "metadata": {},
   "outputs": [],
   "source": [
    "filepath=\"./files/sample.txt\"\n",
    "with open(filepath,'w') as f :\n",
    "    f.write(\"this is me\\n\")"
   ]
  },
  {
   "cell_type": "code",
   "execution_count": 27,
   "metadata": {},
   "outputs": [],
   "source": [
    "filepath=\"./files/sample.txt\"\n",
    "with open(filepath,'a') as f :\n",
    "    f.write(\"this is my first line\\n this is my second line\\n this is my third line\")"
   ]
  },
  {
   "cell_type": "code",
   "execution_count": 28,
   "metadata": {},
   "outputs": [
    {
     "name": "stdout",
     "output_type": "stream",
     "text": [
      "this is me\n",
      "this is my first line\n",
      " this is my second line\n",
      " this is my third line\n"
     ]
    }
   ],
   "source": [
    "filepath=\"./files/sample.txt\"\n",
    "with open(filepath,'r') as f:\n",
    "    data=f.read()\n",
    "    print(data)"
   ]
  },
  {
   "cell_type": "code",
   "execution_count": null,
   "metadata": {},
   "outputs": [],
   "source": [
    "\n"
   ]
  }
 ],
 "metadata": {
  "kernelspec": {
   "display_name": "Python 3",
   "language": "python",
   "name": "python3"
  },
  "language_info": {
   "codemirror_mode": {
    "name": "ipython",
    "version": 3
   },
   "file_extension": ".py",
   "mimetype": "text/x-python",
   "name": "python",
   "nbconvert_exporter": "python",
   "pygments_lexer": "ipython3",
   "version": "3.7.3"
  }
 },
 "nbformat": 4,
 "nbformat_minor": 2
}
