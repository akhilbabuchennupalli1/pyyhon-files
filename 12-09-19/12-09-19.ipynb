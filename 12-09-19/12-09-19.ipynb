{
 "cells": [
  {
   "cell_type": "markdown",
   "metadata": {},
   "source": [
    "### divisible by 6 and not factor of 100"
   ]
  },
  {
   "cell_type": "code",
   "execution_count": 10,
   "metadata": {},
   "outputs": [
    {
     "name": "stdout",
     "output_type": "stream",
     "text": [
      "1\n",
      "100\n",
      "6\n",
      "12\n",
      "18\n",
      "24\n",
      "30\n",
      "36\n",
      "42\n",
      "48\n",
      "54\n",
      "60\n",
      "66\n",
      "72\n",
      "78\n",
      "84\n",
      "90\n",
      "96\n"
     ]
    }
   ],
   "source": [
    "lb=int(input())\n",
    "ub=int(input())\n",
    "k=6\n",
    "def divby(lb,k):\n",
    "    if (x%6)==0 and 100%x!=0:\n",
    "        print(x)\n",
    "for x in range(lb,ub+1):\n",
    "    divby(x,k)\n"
   ]
  },
  {
   "cell_type": "code",
   "execution_count": 12,
   "metadata": {},
   "outputs": [
    {
     "name": "stdout",
     "output_type": "stream",
     "text": [
      "1\n",
      "100\n",
      "6\n",
      "12\n",
      "18\n",
      "24\n",
      "30\n",
      "36\n",
      "42\n",
      "48\n",
      "54\n",
      "60\n",
      "66\n",
      "72\n",
      "78\n",
      "84\n",
      "90\n",
      "96\n"
     ]
    }
   ],
   "source": [
    "l=int(input())\n",
    "u=int(input())\n",
    "def divby(n):\n",
    "    if n%6==0 and 100%n!=0:\n",
    "        print(n)\n",
    "for x in range(l,u+1):\n",
    "    divby(x)"
   ]
  },
  {
   "cell_type": "markdown",
   "metadata": {},
   "source": [
    "### cubes of all even numbers and average"
   ]
  },
  {
   "cell_type": "code",
   "execution_count": 13,
   "metadata": {},
   "outputs": [
    {
     "ename": "SyntaxError",
     "evalue": "invalid syntax (<ipython-input-13-f725d83633bc>, line 8)",
     "output_type": "error",
     "traceback": [
      "\u001b[1;36m  File \u001b[1;32m\"<ipython-input-13-f725d83633bc>\"\u001b[1;36m, line \u001b[1;32m8\u001b[0m\n\u001b[1;33m    count=count+1:\u001b[0m\n\u001b[1;37m                 ^\u001b[0m\n\u001b[1;31mSyntaxError\u001b[0m\u001b[1;31m:\u001b[0m invalid syntax\n"
     ]
    }
   ],
   "source": [
    "lb=int(input())\n",
    "ub=int(input())\n",
    "k=0\n",
    "def cubes(lb,k):\n",
    "    if x%2==0:\n",
    "        l=j**3\n",
    "        s=s+l\n",
    "        count=count+1:\n",
    "            print(s)\n",
    "for m in range(lb,ub+1):\n",
    "    cubes(m,k)\n",
    "    \n",
    "    \n",
    "            "
   ]
  },
  {
   "cell_type": "code",
   "execution_count": null,
   "metadata": {},
   "outputs": [],
   "source": []
  }
 ],
 "metadata": {
  "kernelspec": {
   "display_name": "Python 3",
   "language": "python",
   "name": "python3"
  },
  "language_info": {
   "codemirror_mode": {
    "name": "ipython",
    "version": 3
   },
   "file_extension": ".py",
   "mimetype": "text/x-python",
   "name": "python",
   "nbconvert_exporter": "python",
   "pygments_lexer": "ipython3",
   "version": "3.7.3"
  }
 },
 "nbformat": 4,
 "nbformat_minor": 2
}
