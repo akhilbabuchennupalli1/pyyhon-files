{
 "cells": [
  {
   "cell_type": "code",
   "execution_count": 3,
   "metadata": {},
   "outputs": [
    {
     "data": {
      "text/plain": [
       "[1, 2, 3, 4, 5, 'this is me']"
      ]
     },
     "execution_count": 3,
     "metadata": {},
     "output_type": "execute_result"
    }
   ],
   "source": [
    "a=[1,2,3,4,5]\n",
    "a.append(\"this is me\")\n",
    "a"
   ]
  },
  {
   "cell_type": "code",
   "execution_count": 4,
   "metadata": {},
   "outputs": [
    {
     "data": {
      "text/plain": [
       "[1, 2, 3, 4, 5, 6]"
      ]
     },
     "execution_count": 4,
     "metadata": {},
     "output_type": "execute_result"
    }
   ],
   "source": [
    "n=[1,2,3,4,5,6]\n",
    "n.copy()\n",
    "n"
   ]
  },
  {
   "cell_type": "code",
   "execution_count": 7,
   "metadata": {
    "scrolled": true
   },
   "outputs": [
    {
     "data": {
      "text/plain": [
       "[1, 2, 3, 4, 5, 6]"
      ]
     },
     "execution_count": 7,
     "metadata": {},
     "output_type": "execute_result"
    }
   ],
   "source": [
    "n=[1,6,2,4,3,5]\n",
    "n.sort()\n",
    "n\n"
   ]
  },
  {
   "cell_type": "markdown",
   "metadata": {},
   "source": [
    "### dictionary concept"
   ]
  },
  {
   "cell_type": "code",
   "execution_count": 15,
   "metadata": {},
   "outputs": [
    {
     "name": "stdout",
     "output_type": "stream",
     "text": [
      "d = 92 first ranker\n",
      "a = 90 second ranker\n",
      "c = 55 third ranker\n"
     ]
    }
   ],
   "source": [
    "d={\"a\":90,\"d\":92,\"f\":36,\"c\":55}\n",
    "m=d.values()\n",
    "a={}\n",
    "n={}\n",
    "ft=max(m)\n",
    "for i in d:\n",
    "    if d[i]>=ft:\n",
    "        print(i,\"=\",ft,\"first ranker\")\n",
    "    if d[i]<ft:\n",
    "        n[i]=d[i]\n",
    "st=max(n.values())\n",
    "for i in n:\n",
    "    if n[i]>=st:\n",
    "        print(i,\"=\",st,\"second ranker\")\n",
    "    if n[i]<st:\n",
    "        a[i]=n[i]\n",
    "tt=max(a.values())\n",
    "for i in a:\n",
    "    if a[i]>=tt:\n",
    "        print(i,\"=\",tt,\"third ranker\")\n",
    "    \n",
    "            \n"
   ]
  },
  {
   "cell_type": "markdown",
   "metadata": {},
   "source": [
    "### print 3 toppers"
   ]
  },
  {
   "cell_type": "code",
   "execution_count": null,
   "metadata": {},
   "outputs": [],
   "source": [
    "d={\"a\":90,}"
   ]
  }
 ],
 "metadata": {
  "kernelspec": {
   "display_name": "Python 3",
   "language": "python",
   "name": "python3"
  },
  "language_info": {
   "codemirror_mode": {
    "name": "ipython",
    "version": 3
   },
   "file_extension": ".py",
   "mimetype": "text/x-python",
   "name": "python",
   "nbconvert_exporter": "python",
   "pygments_lexer": "ipython3",
   "version": "3.7.3"
  }
 },
 "nbformat": 4,
 "nbformat_minor": 2
}
