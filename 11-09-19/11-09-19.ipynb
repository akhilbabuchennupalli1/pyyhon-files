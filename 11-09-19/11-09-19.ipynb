{
 "cells": [
  {
   "cell_type": "markdown",
   "metadata": {},
   "source": [
    "### reverse of given number"
   ]
  },
  {
   "cell_type": "code",
   "execution_count": 4,
   "metadata": {},
   "outputs": [
    {
     "name": "stdout",
     "output_type": "stream",
     "text": [
      "253\n"
     ]
    },
    {
     "data": {
      "text/plain": [
       "'352'"
      ]
     },
     "execution_count": 4,
     "metadata": {},
     "output_type": "execute_result"
    }
   ],
   "source": [
    "n=(input())\n",
    "n[::-1]"
   ]
  },
  {
   "cell_type": "code",
   "execution_count": 5,
   "metadata": {},
   "outputs": [
    {
     "name": "stdout",
     "output_type": "stream",
     "text": [
      "12589\n",
      "1\n",
      "2\n",
      "5\n",
      "8\n",
      "9\n"
     ]
    }
   ],
   "source": [
    "n=(input())\n",
    "for i in n:\n",
    "    print(i)\n"
   ]
  },
  {
   "cell_type": "markdown",
   "metadata": {},
   "source": [
    "### special number"
   ]
  },
  {
   "cell_type": "code",
   "execution_count": 36,
   "metadata": {},
   "outputs": [
    {
     "name": "stdout",
     "output_type": "stream",
     "text": [
      "87\n"
     ]
    },
    {
     "data": {
      "text/plain": [
       "71"
      ]
     },
     "execution_count": 36,
     "metadata": {},
     "output_type": "execute_result"
    }
   ],
   "source": [
    "a=int(input())\n",
    "b=int(a/10)\n",
    "c=int(a%10)\n",
    "d=b*c\n",
    "e=b+c\n",
    "f=int(d+e)\n",
    "f"
   ]
  },
  {
   "cell_type": "code",
   "execution_count": 1,
   "metadata": {},
   "outputs": [
    {
     "name": "stdout",
     "output_type": "stream",
     "text": [
      "56187871\n",
      "is not special\n"
     ]
    }
   ],
   "source": [
    "n=input()\n",
    "s=0\n",
    "p=0\n",
    "for i in n:\n",
    "    s=s+int(i)\n",
    "    p=p+int(i)\n",
    "res=s+p\n",
    "if res==int(n):\n",
    "    print(\"is a special\")\n",
    "else:\n",
    "    print(\"is not special\")"
   ]
  },
  {
   "cell_type": "markdown",
   "metadata": {},
   "source": [
    "### perfect number"
   ]
  },
  {
   "cell_type": "code",
   "execution_count": 7,
   "metadata": {},
   "outputs": [
    {
     "name": "stdout",
     "output_type": "stream",
     "text": [
      "enter lb1\n",
      "enter ub100\n",
      "6\n",
      "28\n"
     ]
    }
   ],
   "source": [
    "lb=int(input(\"enter lb\"))\n",
    "ub=int(input(\"enter ub\"))\n",
    "s=0\n",
    "def findfactor(n,s):\n",
    "    for i in range(1,n):\n",
    "        if n%i==0:\n",
    "            s=s+i\n",
    "    if s==n:\n",
    "        print(n)\n",
    "for k in range(lb,ub+1):\n",
    "    findfactor(k,s)"
   ]
  },
  {
   "cell_type": "markdown",
   "metadata": {},
   "source": [
    "### prime numbers in range"
   ]
  },
  {
   "cell_type": "code",
   "execution_count": 12,
   "metadata": {},
   "outputs": [
    {
     "name": "stdout",
     "output_type": "stream",
     "text": [
      "enter a lb1\n",
      "enter a ub10\n",
      "2\n",
      "3\n",
      "5\n",
      "7\n"
     ]
    }
   ],
   "source": [
    "lb=int(input(\"enter a lb\"))\n",
    "ub=int(input(\"enter a ub\"))\n",
    "k=0\n",
    "def findprime(lb,k):\n",
    "    for i in range(1,lb+1):\n",
    "        if lb%i==0:\n",
    "            k=k+1\n",
    "    if k==2:\n",
    "        print(lb)\n",
    "for s in range(lb, ub+1):\n",
    "    findprime(s,k)\n",
    "    \n"
   ]
  },
  {
   "cell_type": "code",
   "execution_count": null,
   "metadata": {},
   "outputs": [],
   "source": []
  }
 ],
 "metadata": {
  "kernelspec": {
   "display_name": "Python 3",
   "language": "python",
   "name": "python3"
  },
  "language_info": {
   "codemirror_mode": {
    "name": "ipython",
    "version": 3
   },
   "file_extension": ".py",
   "mimetype": "text/x-python",
   "name": "python",
   "nbconvert_exporter": "python",
   "pygments_lexer": "ipython3",
   "version": "3.7.3"
  }
 },
 "nbformat": 4,
 "nbformat_minor": 2
}
